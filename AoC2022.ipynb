{
 "cells": [
  {
   "cell_type": "markdown",
   "metadata": {},
   "source": [
    "### Day 1: Calorie Counting"
   ]
  },
  {
   "cell_type": "markdown",
   "metadata": {},
   "source": []
  },
  {
   "cell_type": "code",
   "execution_count": 221,
   "metadata": {},
   "outputs": [
    {
     "name": "stdout",
     "output_type": "stream",
     "text": [
      "part1 69626\n",
      "part2 206780\n"
     ]
    }
   ],
   "source": [
    "with open(\"input/input1\", \"rt\") as f:\n",
    "    data = f.read().strip()\n",
    "sum_food = lambda food: sum(map(int, food.split('\\n')))\n",
    "print('part1', max(list(map(sum_food, data.split('\\n\\n')))))\n",
    "print('part2', sum(sorted(map(sum_food, data.split('\\n\\n')))[-3:]))\n"
   ]
  },
  {
   "cell_type": "markdown",
   "metadata": {},
   "source": [
    "### --- Day 2: Rock Paper Scissors ---"
   ]
  },
  {
   "cell_type": "markdown",
   "metadata": {},
   "source": [
    "A,X for Rock, B,Y for Paper, and C,Z for Scissors. Rock defeats Scissors, Scissors defeats Paper, and Paper defeats Rock"
   ]
  },
  {
   "cell_type": "code",
   "execution_count": 224,
   "metadata": {},
   "outputs": [
    {
     "name": "stdout",
     "output_type": "stream",
     "text": [
      "part1 9651\n",
      "part2 10560\n"
     ]
    }
   ],
   "source": [
    "scores = {'X':1, 'Y':2, 'Z':3, 'A X': 3, 'A Y': 6, 'A Z': 0, 'B X': 0, 'B Y': 3, 'B Z': 6, 'C X': 6, 'C Y':0, 'C Z': 3}\n",
    "with open(\"input/input2\", \"rt\") as f:\n",
    "    data = f.read().strip().split('\\n')\n",
    "print('part1',sum(map(lambda x: scores[x]+scores[x[-1]],data)))\n",
    "\n",
    "strategy = {'X': {'A': 'Z', 'B': 'X', 'C': 'Y'}, \n",
    "            'Y': {'A': 'X', 'B': 'Y', 'C': 'Z'},\n",
    "            'Z': {'A': 'Y', 'B': 'Z', 'C': 'X'}}\n",
    "total = 0\n",
    "for el in data:\n",
    "    new_el = el[0]+' '+strategy[el[-1]][el[0]]\n",
    "    total+=(scores[new_el]+scores[new_el[-1]])\n",
    "print('part2',total)"
   ]
  },
  {
   "cell_type": "markdown",
   "metadata": {},
   "source": [
    "## --- Day 3: Rucksack Reorganization ---"
   ]
  },
  {
   "cell_type": "code",
   "execution_count": 226,
   "metadata": {},
   "outputs": [
    {
     "name": "stdout",
     "output_type": "stream",
     "text": [
      "part1 7746\n",
      "part2 2604\n"
     ]
    }
   ],
   "source": [
    "def score(ch: str)->int:\n",
    "    if ch.islower():\n",
    "        return ord(ch)-96\n",
    "    return ord(ch)-38\n",
    "\n",
    "def calc_score_for_line(line: str)->int:\n",
    "    line = line.strip()\n",
    "    line1, line2 = line[:len(line)//2], line[len(line)//2:]\n",
    "    return sum(map(score, set(line1).intersection(line2)))\n",
    "\n",
    "total = 0\n",
    "with open(\"input/input3\", \"rt\") as f:\n",
    "    for line in f.readlines():\n",
    "        total+=calc_score_for_line(line)\n",
    "print('part1',total)\n",
    "\n",
    "from string import ascii_letters\n",
    "total = 0\n",
    "with open(\"input/input3\", \"rt\") as f:\n",
    "    g = set(ascii_letters)\n",
    "    for ind, line in enumerate(f.readlines(), start=1):\n",
    "        g = g.intersection(set(line.strip()))\n",
    "        if ind%3==0:\n",
    "            for el in g:\n",
    "                total+=score(el)\n",
    "            g = set(ascii_letters)\n",
    "print('part2', total)"
   ]
  },
  {
   "cell_type": "markdown",
   "metadata": {},
   "source": [
    "## --- Day 4: Camp Cleanup ---"
   ]
  },
  {
   "cell_type": "code",
   "execution_count": 227,
   "metadata": {},
   "outputs": [
    {
     "name": "stdout",
     "output_type": "stream",
     "text": [
      "part1 500\n",
      "part2 815\n"
     ]
    }
   ],
   "source": [
    "def is_one_range_in_another(ranges):\n",
    "    r11, r12 = map(int, ranges[0].split('-'))\n",
    "    r21, r22 = map(int, ranges[1].split('-'))\n",
    "    return (r21<=r11<=r22 and r21<=r12<=r22) or (r11<=r21<=r12 and r11<=r22<=r12)\n",
    "\n",
    "def is_one_range_overlap_another(ranges):\n",
    "    r11, r12 = map(int, ranges[0].split('-'))\n",
    "    r21, r22 = map(int, ranges[1].split('-'))\n",
    "    return not((r21>r12) or (r22<r11))\n",
    "\n",
    "with open(\"input/input4\", \"rt\") as f:\n",
    "    lines = [line.strip().split('\\n')[0].split(',') for line in f.readlines()]\n",
    "print('part1',sum(map(is_one_range_in_another, lines)))\n",
    "print('part2',sum(map(is_one_range_overlap_another, lines)))"
   ]
  },
  {
   "cell_type": "markdown",
   "metadata": {},
   "source": [
    "## --- Day 5: Supply Stacks ---"
   ]
  },
  {
   "cell_type": "code",
   "execution_count": 231,
   "metadata": {},
   "outputs": [
    {
     "name": "stdout",
     "output_type": "stream",
     "text": [
      "part1 GCMVZDRMV\n",
      "part2 GCMVZDRMV\n"
     ]
    }
   ],
   "source": [
    "import re\n",
    "\n",
    "def load():\n",
    "    with open(\"input/input5\", \"rt\") as f:\n",
    "        lines = [line[:-1] for line in f.readlines()]\n",
    "    max_num = -1\n",
    "    for ind, line in enumerate(lines):\n",
    "        if '1   2' in line:\n",
    "            max_num = int(lines[ind].split()[-1])\n",
    "            break\n",
    "    letter_ind = [lines[ind].index(str(i)) for i in range(1, max_num+1)]\n",
    "    stacks = [[] for _ in range(max_num)]\n",
    "    for i in range(ind):\n",
    "        for k in range(max_num):\n",
    "            if lines[i][letter_ind[k]]!=' ':\n",
    "                stacks[k].insert(0, lines[i][letter_ind[k]])\n",
    "    return stacks\n",
    "    \n",
    "stacks = load()\n",
    "for line in lines:\n",
    "    if 'move' in line:\n",
    "        cnt, from_col, to_col = [int(a) for a in re.findall('\\d+', line)]\n",
    "        from_col, to_col = from_col-1, to_col-1\n",
    "        for c in range(cnt):\n",
    "            stacks[to_col].append(stacks[from_col].pop())\n",
    "print('part1',''.join(el[-1] for el in stacks))\n",
    "\n",
    "stacks = load()\n",
    "for line in lines:\n",
    "    if 'move' in line:\n",
    "        cnt, from_col, to_col = [int(a) for a in re.findall('\\d+', line)]\n",
    "        from_col, to_col = from_col-1, to_col-1\n",
    "        if cnt==1:\n",
    "            stacks[to_col].append(stacks[from_col].pop())\n",
    "        else:\n",
    "            tmp = stacks[from_col][-cnt:].copy()\n",
    "            del stacks[from_col][-cnt:]\n",
    "            stacks[to_col]+=tmp\n",
    "print('part2',''.join(el[-1] for el in stacks))   "
   ]
  },
  {
   "cell_type": "markdown",
   "metadata": {},
   "source": [
    "## --- Day 6: Tuning Trouble ---"
   ]
  },
  {
   "cell_type": "code",
   "execution_count": 109,
   "metadata": {},
   "outputs": [],
   "source": [
    "with open(\"input/input6\", \"rt\") as f:\n",
    "    s = f.read().strip()"
   ]
  },
  {
   "cell_type": "code",
   "execution_count": 114,
   "metadata": {},
   "outputs": [
    {
     "name": "stdout",
     "output_type": "stream",
     "text": [
      "1171 l h g s\n",
      "1175\n"
     ]
    }
   ],
   "source": [
    "for i in range(len(s)-4):\n",
    "    a, b, c, d = s[i], s[i+1], s[i+2], s[i+3]\n",
    "    if len({a,b,c,d})==4:\n",
    "        print(i, a,b,c,d)\n",
    "        break\n",
    "print(i+4)"
   ]
  },
  {
   "cell_type": "code",
   "execution_count": 115,
   "metadata": {},
   "outputs": [
    {
     "name": "stdout",
     "output_type": "stream",
     "text": [
      "3203 {'g', 'r', 'c', 'd', 's', 'v', 'h', 'z', 'p', 'f', 'j', 'm', 'b', 'l'}\n",
      "3217\n"
     ]
    }
   ],
   "source": [
    "for i in range(len(s)-4):\n",
    "    t = set()\n",
    "    for j in range(14):\n",
    "        t.add(s[i+j])\n",
    "    if len(t)==14:\n",
    "        print(i, t)\n",
    "        break\n",
    "print(i+14)"
   ]
  },
  {
   "cell_type": "markdown",
   "metadata": {},
   "source": [
    "## --- Day 7: No Space Left On Device ---"
   ]
  },
  {
   "cell_type": "code",
   "execution_count": 98,
   "metadata": {},
   "outputs": [],
   "source": [
    "with open(\"input/input7\", \"rt\") as f:\n",
    "    log = f.read().strip().split('\\n')"
   ]
  },
  {
   "cell_type": "code",
   "execution_count": 99,
   "metadata": {},
   "outputs": [],
   "source": [
    "from collections import defaultdict\n",
    "fs = defaultdict(list)\n",
    "stack = []\n",
    "for line in log:\n",
    "    if '$ cd' in line:\n",
    "        if '..' not in line:\n",
    "            d = line.split()[-1]\n",
    "            stack.append(d)\n",
    "        else:\n",
    "            el = stack.pop()\n",
    "    elif '$ ls' in line:\n",
    "        continue\n",
    "    elif not '$ ls' in line:\n",
    "        if 'dir' in line:\n",
    "            fs[''.join(stack)].append(line.split()[1])\n",
    "        else:\n",
    "            fs[''.join(stack)].append(line.split()[0])"
   ]
  },
  {
   "cell_type": "code",
   "execution_count": 100,
   "metadata": {},
   "outputs": [
    {
     "name": "stdout",
     "output_type": "stream",
     "text": [
      "part1 =  1543140\n",
      "part2 =  1117448\n"
     ]
    }
   ],
   "source": [
    "def find_total(root: str)->int:\n",
    "    total = 0\n",
    "    val = fs[root].copy()\n",
    "    for file_dir in val:\n",
    "        if file_dir.isdigit():\n",
    "            total+=int(file_dir)\n",
    "        else:\n",
    "            total+=find_total(root+file_dir)\n",
    "    return total\n",
    "\n",
    "total_size = 0\n",
    "min_size_dir = float('inf')\n",
    "need = 30000000-(70000000-find_total('/'))\n",
    "for k in fs.keys():\n",
    "    f = find_total(k)\n",
    "    if f>need:\n",
    "        if f<min_size_dir:\n",
    "            min_size_dir = f\n",
    "    if f<=100000:\n",
    "        total_size+=f\n",
    "print('part1 = ',total_size)\n",
    "print('part2 = ',min_size_dir)"
   ]
  },
  {
   "cell_type": "markdown",
   "metadata": {},
   "source": [
    "## --- Day 8: Treetop Tree House ---"
   ]
  },
  {
   "cell_type": "code",
   "execution_count": 216,
   "metadata": {},
   "outputs": [],
   "source": [
    "# grid = \"\"\"30373\n",
    "# 25512\n",
    "# 65332\n",
    "# 33549\n",
    "# 35390\"\"\".strip().split('\\n')\n",
    "\n",
    "with open(\"input/input8\", \"rt\") as f:\n",
    "    grid = f.read().strip().split('\\n')\n",
    "grid = [[int(n) for n in el] for el in grid]\n",
    "sx = len(grid)\n",
    "sy = len(grid[0])"
   ]
  },
  {
   "cell_type": "code",
   "execution_count": 217,
   "metadata": {},
   "outputs": [
    {
     "name": "stdout",
     "output_type": "stream",
     "text": [
      "part1 1854\n",
      "part2 527340\n"
     ]
    }
   ],
   "source": [
    "def is_hidden(x0:int, y0:int)->bool:\n",
    "    dr = ((1,0,sx-x0-1),(0,1,sy-y0-1),(0,-1,y0),(-1,0,x0))\n",
    "    p = 0\n",
    "    for dx, dy, num in dr:\n",
    "        x, y = x0, y0\n",
    "        for _ in range(num):\n",
    "            x = x+dx\n",
    "            y = y+dy\n",
    "            if 0<=x<sx and 0<=y<sy:\n",
    "                if grid[x][y]>=grid[x0][y0]:\n",
    "                    p+=1\n",
    "                    break\n",
    "    return p==4\n",
    "\n",
    "def can_view(x0:int, y0:int)->int:\n",
    "    dr = ((1,0,sx-x0),(0,1,sy-y0),(0,-1,y0),(-1,0,x0))\n",
    "    score = 1\n",
    "    for dx, dy, num in dr:\n",
    "        p = 0\n",
    "        x, y = x0, y0\n",
    "        for _ in range(num):\n",
    "            x = x+dx\n",
    "            y = y+dy\n",
    "            if 0<=x<sx and 0<=y<sy:\n",
    "                if grid[x][y]<grid[x0][y0]:\n",
    "                    p+=1\n",
    "                elif grid[x][y]>=grid[x0][y0]:\n",
    "                    p+=1\n",
    "                    break\n",
    "        score*=p\n",
    "    return score\n",
    "\n",
    "cnt = 0\n",
    "for x in range(1, sx-1):\n",
    "    for y in range(1, sy-1):\n",
    "        if not  is_hidden(x, y):\n",
    "            cnt+=1\n",
    "print('part1', 2*(sx+sy)-4+cnt)\n",
    "max_view = 0\n",
    "for x in range(1, sx-1):\n",
    "    for y in range(1, sy-1):\n",
    "        max_view = max(max_view, can_view(x, y))\n",
    "print('part2', max_view)"
   ]
  },
  {
   "cell_type": "code",
   "execution_count": null,
   "metadata": {},
   "outputs": [],
   "source": []
  }
 ],
 "metadata": {
  "kernelspec": {
   "display_name": "Python 3.11.0 64-bit",
   "language": "python",
   "name": "python3"
  },
  "language_info": {
   "codemirror_mode": {
    "name": "ipython",
    "version": 3
   },
   "file_extension": ".py",
   "mimetype": "text/x-python",
   "name": "python",
   "nbconvert_exporter": "python",
   "pygments_lexer": "ipython3",
   "version": "3.11.0"
  },
  "orig_nbformat": 4,
  "vscode": {
   "interpreter": {
    "hash": "7b930238dd5387da3a4c8145b48b2f4db8a564b3bf4e96406d399e72783e5083"
   }
  }
 },
 "nbformat": 4,
 "nbformat_minor": 2
}
